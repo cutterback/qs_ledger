{
 "cells": [
  {
   "cell_type": "markdown",
   "metadata": {},
   "source": [
    "# Apple Health Extractor"
   ]
  },
  {
   "cell_type": "markdown",
   "metadata": {},
   "source": [
    "This code will parse your Apple Health export data, create multiple CSV and do some simple data checks and data analysis. \n",
    "\n",
    "Enjoy! "
   ]
  },
  {
   "cell_type": "markdown",
   "metadata": {},
   "source": [
    "--------"
   ]
  },
  {
   "cell_type": "markdown",
   "metadata": {},
   "source": [
    "## Extract Data and Export to CSVs from Apple Health's Export.xml"
   ]
  },
  {
   "cell_type": "markdown",
   "metadata": {},
   "source": [
    "* Command Line Tool to Process apple health's export.xml file \n",
    "* Create multiple CSV files for each data type. \n",
    "* Original Source: https://github.com/tdda/applehealthdata\n",
    "* Based on the size of your Apple Health Data, this script may take several minutes to complete.\n",
    "\n",
    "**NOTE: Currently there are a few minror errors based on additional data from Apple Health that require some updates.** "
   ]
  },
  {
   "cell_type": "markdown",
   "metadata": {},
   "source": [
    "## Setup and Usage NOTE\n",
    "\n",
    "* Export your data from Apple Health App on your phone. \n",
    "* Unzip export.zip into this directory and rename to data. \n",
    "* Inside your directory there should be a directory and file here: /data/export.xml\n",
    "* Run inside project or in the command line."
   ]
  },
  {
   "cell_type": "code",
   "execution_count": 1,
   "metadata": {},
   "outputs": [
    {
     "name": "stdout",
     "output_type": "stream",
     "text": [
      "Reading data from data/export.xml . . . done\n"
     ]
    },
    {
     "name": "stderr",
     "output_type": "stream",
     "text": [
      "/Users/cutterback/Documents/Flatiron/m1_intro_data_python/qs_ledger/apple_health/apple-health-data-parser.py:136: DeprecationWarning: This method will be removed in future versions.  Use 'list(elem)' or iteration over elem instead.\n",
      "  self.nodes = self.root.getchildren()\n"
     ]
    },
    {
     "name": "stdout",
     "output_type": "stream",
     "text": [
      "Unexpected node of type ExportDate.\n",
      "Unexpected node of type Correlation.\n",
      "Unexpected node of type Correlation.\n",
      "Unexpected node of type Correlation.\n",
      "Unexpected node of type Correlation.\n",
      "Unexpected node of type Correlation.\n",
      "Unexpected node of type Correlation.\n",
      "Unexpected node of type Correlation.\n",
      "Unexpected node of type Correlation.\n",
      "Unexpected node of type Correlation.\n",
      "Unexpected node of type Correlation.\n",
      "Unexpected node of type Correlation.\n",
      "Unexpected node of type Correlation.\n",
      "Unexpected node of type Correlation.\n",
      "Unexpected node of type Correlation.\n",
      "Unexpected node of type Correlation.\n",
      "Unexpected node of type Correlation.\n",
      "\n",
      "Tags:\n",
      "ActivitySummary: 2036\n",
      "Correlation: 16\n",
      "ExportDate: 1\n",
      "Me: 1\n",
      "Record: 3696304\n",
      "Workout: 1402\n",
      "\n",
      "Fields:\n",
      "HKCharacteristicTypeIdentifierBiologicalSex: 1\n",
      "HKCharacteristicTypeIdentifierBloodType: 1\n",
      "HKCharacteristicTypeIdentifierCardioFitnessMedicationsUse: 1\n",
      "HKCharacteristicTypeIdentifierDateOfBirth: 1\n",
      "HKCharacteristicTypeIdentifierFitzpatrickSkinType: 1\n",
      "activeEnergyBurned: 2036\n",
      "activeEnergyBurnedGoal: 2036\n",
      "activeEnergyBurnedUnit: 2036\n",
      "appleExerciseTime: 2036\n",
      "appleExerciseTimeGoal: 2036\n",
      "appleMoveTime: 2036\n",
      "appleMoveTimeGoal: 2036\n",
      "appleStandHours: 2036\n",
      "appleStandHoursGoal: 2036\n",
      "creationDate: 3697722\n",
      "dateComponents: 2036\n",
      "device: 3206893\n",
      "duration: 1402\n",
      "durationUnit: 1402\n",
      "endDate: 3697722\n",
      "sourceName: 3697722\n",
      "sourceVersion: 3342385\n",
      "startDate: 3697722\n",
      "totalDistance: 1402\n",
      "totalDistanceUnit: 1402\n",
      "totalEnergyBurned: 1402\n",
      "totalEnergyBurnedUnit: 1402\n",
      "type: 3696320\n",
      "unit: 3658950\n",
      "value: 3696127\n",
      "workoutActivityType: 1402\n",
      "\n",
      "Record types:\n",
      "ActiveEnergyBurned: 1634231\n",
      "AppleExerciseTime: 66071\n",
      "AppleStandHour: 32955\n",
      "AppleStandTime: 26689\n",
      "AudioExposureEvent: 1\n",
      "BasalEnergyBurned: 541202\n",
      "BloodPressureDiastolic: 30\n",
      "BloodPressureSystolic: 30\n",
      "BodyFatPercentage: 792\n",
      "BodyMass: 2102\n",
      "BodyMassIndex: 851\n",
      "DietaryCalcium: 2462\n",
      "DietaryCarbohydrates: 3479\n",
      "DietaryCholesterol: 2509\n",
      "DietaryEnergyConsumed: 2503\n",
      "DietaryFatMonounsaturated: 2521\n",
      "DietaryFatPolyunsaturated: 2519\n",
      "DietaryFatSaturated: 2513\n",
      "DietaryFatTotal: 2513\n",
      "DietaryFiber: 2478\n",
      "DietaryIron: 2468\n",
      "DietaryPotassium: 2491\n",
      "DietaryProtein: 2464\n",
      "DietarySodium: 2484\n",
      "DietarySugar: 2471\n",
      "DietaryVitaminC: 2470\n",
      "DistanceCycling: 162\n",
      "DistanceSwimming: 554\n",
      "DistanceWalkingRunning: 460635\n",
      "EnvironmentalAudioExposure: 2730\n",
      "FlightsClimbed: 20018\n",
      "HeadphoneAudioExposure: 1817\n",
      "HeartRate: 415885\n",
      "HeartRateVariabilitySDNN: 2512\n",
      "Height: 4\n",
      "MindfulSession: 178\n",
      "RestingHeartRate: 1104\n",
      "SixMinuteWalkTestDistance: 5\n",
      "SleepAnalysis: 4220\n",
      "StairAscentSpeed: 365\n",
      "StairDescentSpeed: 373\n",
      "StepCount: 438737\n",
      "SwimmingStrokeCount: 749\n",
      "VO2Max: 283\n",
      "WalkingAsymmetryPercentage: 95\n",
      "WalkingDoubleSupportPercentage: 457\n",
      "WalkingHeartRateAverage: 1074\n",
      "WalkingSpeed: 524\n",
      "WalkingStepLength: 524\n",
      "\n",
      "Opening /Users/cutterback/Documents/Flatiron/m1_intro_data_python/qs_ledger/apple_health/data/BodyMassIndex.csv for writing\n",
      "Opening /Users/cutterback/Documents/Flatiron/m1_intro_data_python/qs_ledger/apple_health/data/Height.csv for writing\n",
      "Opening /Users/cutterback/Documents/Flatiron/m1_intro_data_python/qs_ledger/apple_health/data/BodyMass.csv for writing\n",
      "Opening /Users/cutterback/Documents/Flatiron/m1_intro_data_python/qs_ledger/apple_health/data/HeartRate.csv for writing\n",
      "Opening /Users/cutterback/Documents/Flatiron/m1_intro_data_python/qs_ledger/apple_health/data/BloodPressureSystolic.csv for writing\n",
      "Opening /Users/cutterback/Documents/Flatiron/m1_intro_data_python/qs_ledger/apple_health/data/BloodPressureDiastolic.csv for writing\n",
      "Opening /Users/cutterback/Documents/Flatiron/m1_intro_data_python/qs_ledger/apple_health/data/BodyFatPercentage.csv for writing\n",
      "Opening /Users/cutterback/Documents/Flatiron/m1_intro_data_python/qs_ledger/apple_health/data/StepCount.csv for writing\n",
      "Opening /Users/cutterback/Documents/Flatiron/m1_intro_data_python/qs_ledger/apple_health/data/DistanceWalkingRunning.csv for writing\n",
      "Opening /Users/cutterback/Documents/Flatiron/m1_intro_data_python/qs_ledger/apple_health/data/BasalEnergyBurned.csv for writing\n",
      "Opening /Users/cutterback/Documents/Flatiron/m1_intro_data_python/qs_ledger/apple_health/data/ActiveEnergyBurned.csv for writing\n",
      "Opening /Users/cutterback/Documents/Flatiron/m1_intro_data_python/qs_ledger/apple_health/data/FlightsClimbed.csv for writing\n",
      "Opening /Users/cutterback/Documents/Flatiron/m1_intro_data_python/qs_ledger/apple_health/data/DietaryFatTotal.csv for writing\n",
      "Opening /Users/cutterback/Documents/Flatiron/m1_intro_data_python/qs_ledger/apple_health/data/DietaryFatPolyunsaturated.csv for writing\n",
      "Opening /Users/cutterback/Documents/Flatiron/m1_intro_data_python/qs_ledger/apple_health/data/DietaryFatMonounsaturated.csv for writing\n",
      "Opening /Users/cutterback/Documents/Flatiron/m1_intro_data_python/qs_ledger/apple_health/data/DietaryFatSaturated.csv for writing\n",
      "Opening /Users/cutterback/Documents/Flatiron/m1_intro_data_python/qs_ledger/apple_health/data/DietaryCholesterol.csv for writing\n",
      "Opening /Users/cutterback/Documents/Flatiron/m1_intro_data_python/qs_ledger/apple_health/data/DietarySodium.csv for writing\n",
      "Opening /Users/cutterback/Documents/Flatiron/m1_intro_data_python/qs_ledger/apple_health/data/DietaryCarbohydrates.csv for writing\n",
      "Opening /Users/cutterback/Documents/Flatiron/m1_intro_data_python/qs_ledger/apple_health/data/DietaryFiber.csv for writing\n",
      "Opening /Users/cutterback/Documents/Flatiron/m1_intro_data_python/qs_ledger/apple_health/data/DietarySugar.csv for writing\n",
      "Opening /Users/cutterback/Documents/Flatiron/m1_intro_data_python/qs_ledger/apple_health/data/DietaryEnergyConsumed.csv for writing\n",
      "Opening /Users/cutterback/Documents/Flatiron/m1_intro_data_python/qs_ledger/apple_health/data/DietaryProtein.csv for writing\n",
      "Opening /Users/cutterback/Documents/Flatiron/m1_intro_data_python/qs_ledger/apple_health/data/DietaryVitaminC.csv for writing\n",
      "Opening /Users/cutterback/Documents/Flatiron/m1_intro_data_python/qs_ledger/apple_health/data/DietaryCalcium.csv for writing\n",
      "Opening /Users/cutterback/Documents/Flatiron/m1_intro_data_python/qs_ledger/apple_health/data/DietaryIron.csv for writing\n",
      "Opening /Users/cutterback/Documents/Flatiron/m1_intro_data_python/qs_ledger/apple_health/data/DietaryPotassium.csv for writing\n",
      "Opening /Users/cutterback/Documents/Flatiron/m1_intro_data_python/qs_ledger/apple_health/data/AppleExerciseTime.csv for writing\n",
      "Opening /Users/cutterback/Documents/Flatiron/m1_intro_data_python/qs_ledger/apple_health/data/DistanceCycling.csv for writing\n",
      "Opening /Users/cutterback/Documents/Flatiron/m1_intro_data_python/qs_ledger/apple_health/data/DistanceSwimming.csv for writing\n",
      "Opening /Users/cutterback/Documents/Flatiron/m1_intro_data_python/qs_ledger/apple_health/data/SwimmingStrokeCount.csv for writing\n",
      "Opening /Users/cutterback/Documents/Flatiron/m1_intro_data_python/qs_ledger/apple_health/data/RestingHeartRate.csv for writing\n",
      "Opening /Users/cutterback/Documents/Flatiron/m1_intro_data_python/qs_ledger/apple_health/data/VO2Max.csv for writing\n",
      "Opening /Users/cutterback/Documents/Flatiron/m1_intro_data_python/qs_ledger/apple_health/data/WalkingHeartRateAverage.csv for writing\n",
      "Opening /Users/cutterback/Documents/Flatiron/m1_intro_data_python/qs_ledger/apple_health/data/EnvironmentalAudioExposure.csv for writing\n",
      "Opening /Users/cutterback/Documents/Flatiron/m1_intro_data_python/qs_ledger/apple_health/data/HeadphoneAudioExposure.csv for writing\n",
      "Opening /Users/cutterback/Documents/Flatiron/m1_intro_data_python/qs_ledger/apple_health/data/WalkingDoubleSupportPercentage.csv for writing\n",
      "Opening /Users/cutterback/Documents/Flatiron/m1_intro_data_python/qs_ledger/apple_health/data/SixMinuteWalkTestDistance.csv for writing\n",
      "Opening /Users/cutterback/Documents/Flatiron/m1_intro_data_python/qs_ledger/apple_health/data/AppleStandTime.csv for writing\n",
      "Opening /Users/cutterback/Documents/Flatiron/m1_intro_data_python/qs_ledger/apple_health/data/WalkingSpeed.csv for writing\n",
      "Opening /Users/cutterback/Documents/Flatiron/m1_intro_data_python/qs_ledger/apple_health/data/WalkingStepLength.csv for writing\n",
      "Opening /Users/cutterback/Documents/Flatiron/m1_intro_data_python/qs_ledger/apple_health/data/WalkingAsymmetryPercentage.csv for writing\n",
      "Opening /Users/cutterback/Documents/Flatiron/m1_intro_data_python/qs_ledger/apple_health/data/StairAscentSpeed.csv for writing\n"
     ]
    },
    {
     "name": "stdout",
     "output_type": "stream",
     "text": [
      "Opening /Users/cutterback/Documents/Flatiron/m1_intro_data_python/qs_ledger/apple_health/data/StairDescentSpeed.csv for writing\n",
      "Opening /Users/cutterback/Documents/Flatiron/m1_intro_data_python/qs_ledger/apple_health/data/SleepAnalysis.csv for writing\n",
      "Opening /Users/cutterback/Documents/Flatiron/m1_intro_data_python/qs_ledger/apple_health/data/AppleStandHour.csv for writing\n",
      "Opening /Users/cutterback/Documents/Flatiron/m1_intro_data_python/qs_ledger/apple_health/data/MindfulSession.csv for writing\n",
      "Opening /Users/cutterback/Documents/Flatiron/m1_intro_data_python/qs_ledger/apple_health/data/AudioExposureEvent.csv for writing\n",
      "Opening /Users/cutterback/Documents/Flatiron/m1_intro_data_python/qs_ledger/apple_health/data/HeartRateVariabilitySDNN.csv for writing\n",
      "Opening /Users/cutterback/Documents/Flatiron/m1_intro_data_python/qs_ledger/apple_health/data/Workout.csv for writing\n",
      "Opening /Users/cutterback/Documents/Flatiron/m1_intro_data_python/qs_ledger/apple_health/data/ActivitySummary.csv for writing\n",
      "Written BodyMassIndex data.\n",
      "Written Height data.\n",
      "Written BodyMass data.\n",
      "Written HeartRate data.\n",
      "Written BloodPressureSystolic data.\n",
      "Written BloodPressureDiastolic data.\n",
      "Written BodyFatPercentage data.\n",
      "Written StepCount data.\n",
      "Written DistanceWalkingRunning data.\n",
      "Written BasalEnergyBurned data.\n",
      "Written ActiveEnergyBurned data.\n",
      "Written FlightsClimbed data.\n",
      "Written DietaryFatTotal data.\n",
      "Written DietaryFatPolyunsaturated data.\n",
      "Written DietaryFatMonounsaturated data.\n",
      "Written DietaryFatSaturated data.\n",
      "Written DietaryCholesterol data.\n",
      "Written DietarySodium data.\n",
      "Written DietaryCarbohydrates data.\n",
      "Written DietaryFiber data.\n",
      "Written DietarySugar data.\n",
      "Written DietaryEnergyConsumed data.\n",
      "Written DietaryProtein data.\n",
      "Written DietaryVitaminC data.\n",
      "Written DietaryCalcium data.\n",
      "Written DietaryIron data.\n",
      "Written DietaryPotassium data.\n",
      "Written AppleExerciseTime data.\n",
      "Written DistanceCycling data.\n",
      "Written DistanceSwimming data.\n",
      "Written SwimmingStrokeCount data.\n",
      "Written RestingHeartRate data.\n",
      "Written VO2Max data.\n",
      "Written WalkingHeartRateAverage data.\n",
      "Written EnvironmentalAudioExposure data.\n",
      "Written HeadphoneAudioExposure data.\n",
      "Written WalkingDoubleSupportPercentage data.\n",
      "Written SixMinuteWalkTestDistance data.\n",
      "Written AppleStandTime data.\n",
      "Written WalkingSpeed data.\n",
      "Written WalkingStepLength data.\n",
      "Written WalkingAsymmetryPercentage data.\n",
      "Written StairAscentSpeed data.\n",
      "Written StairDescentSpeed data.\n",
      "Written SleepAnalysis data.\n",
      "Written AppleStandHour data.\n",
      "Written MindfulSession data.\n",
      "Written AudioExposureEvent data.\n",
      "Written HeartRateVariabilitySDNN data.\n",
      "Written Workout data.\n",
      "Written ActivitySummary data.\n"
     ]
    }
   ],
   "source": [
    "# %run -i 'apple-health-data-parser' 'export.xml' \n",
    "%run -i 'apple-health-data-parser' 'data/export.xml' "
   ]
  },
  {
   "cell_type": "markdown",
   "metadata": {},
   "source": [
    "-----"
   ]
  },
  {
   "cell_type": "markdown",
   "metadata": {},
   "source": [
    "# Apple Health Data Check and Simple Data Analysis"
   ]
  },
  {
   "cell_type": "code",
   "execution_count": 2,
   "metadata": {},
   "outputs": [],
   "source": [
    "import numpy as np\n",
    "import pandas as pd\n",
    "import glob"
   ]
  },
  {
   "cell_type": "markdown",
   "metadata": {},
   "source": [
    "----"
   ]
  },
  {
   "cell_type": "markdown",
   "metadata": {},
   "source": [
    "# Weight"
   ]
  },
  {
   "cell_type": "code",
   "execution_count": 3,
   "metadata": {},
   "outputs": [],
   "source": [
    "weight = pd.read_csv(\"data/BodyMass.csv\")"
   ]
  },
  {
   "cell_type": "code",
   "execution_count": 4,
   "metadata": {},
   "outputs": [
    {
     "data": {
      "text/html": [
       "<div>\n",
       "<style scoped>\n",
       "    .dataframe tbody tr th:only-of-type {\n",
       "        vertical-align: middle;\n",
       "    }\n",
       "\n",
       "    .dataframe tbody tr th {\n",
       "        vertical-align: top;\n",
       "    }\n",
       "\n",
       "    .dataframe thead th {\n",
       "        text-align: right;\n",
       "    }\n",
       "</style>\n",
       "<table border=\"1\" class=\"dataframe\">\n",
       "  <thead>\n",
       "    <tr style=\"text-align: right;\">\n",
       "      <th></th>\n",
       "      <th>sourceName</th>\n",
       "      <th>sourceVersion</th>\n",
       "      <th>device</th>\n",
       "      <th>type</th>\n",
       "      <th>unit</th>\n",
       "      <th>creationDate</th>\n",
       "      <th>startDate</th>\n",
       "      <th>endDate</th>\n",
       "      <th>value</th>\n",
       "    </tr>\n",
       "  </thead>\n",
       "  <tbody>\n",
       "    <tr>\n",
       "      <th>2097</th>\n",
       "      <td>Health Mate</td>\n",
       "      <td>5030201</td>\n",
       "      <td>NaN</td>\n",
       "      <td>BodyMass</td>\n",
       "      <td>lb</td>\n",
       "      <td>2021-01-17 10:21:51 -0500</td>\n",
       "      <td>2021-01-17 07:08:05 -0500</td>\n",
       "      <td>2021-01-17 07:08:05 -0500</td>\n",
       "      <td>184.392</td>\n",
       "    </tr>\n",
       "    <tr>\n",
       "      <th>2098</th>\n",
       "      <td>Health Mate</td>\n",
       "      <td>5030303</td>\n",
       "      <td>NaN</td>\n",
       "      <td>BodyMass</td>\n",
       "      <td>lb</td>\n",
       "      <td>2021-01-18 08:14:00 -0500</td>\n",
       "      <td>2021-01-18 07:07:49 -0500</td>\n",
       "      <td>2021-01-18 07:07:49 -0500</td>\n",
       "      <td>184.073</td>\n",
       "    </tr>\n",
       "    <tr>\n",
       "      <th>2099</th>\n",
       "      <td>Health Mate</td>\n",
       "      <td>5030303</td>\n",
       "      <td>NaN</td>\n",
       "      <td>BodyMass</td>\n",
       "      <td>lb</td>\n",
       "      <td>2021-01-19 05:27:24 -0500</td>\n",
       "      <td>2021-01-19 05:20:36 -0500</td>\n",
       "      <td>2021-01-19 05:20:36 -0500</td>\n",
       "      <td>183.738</td>\n",
       "    </tr>\n",
       "    <tr>\n",
       "      <th>2100</th>\n",
       "      <td>Health Mate</td>\n",
       "      <td>5030303</td>\n",
       "      <td>NaN</td>\n",
       "      <td>BodyMass</td>\n",
       "      <td>lb</td>\n",
       "      <td>2021-01-20 05:57:06 -0500</td>\n",
       "      <td>2021-01-20 05:48:12 -0500</td>\n",
       "      <td>2021-01-20 05:48:12 -0500</td>\n",
       "      <td>182.827</td>\n",
       "    </tr>\n",
       "    <tr>\n",
       "      <th>2101</th>\n",
       "      <td>Health Mate</td>\n",
       "      <td>5030303</td>\n",
       "      <td>NaN</td>\n",
       "      <td>BodyMass</td>\n",
       "      <td>lb</td>\n",
       "      <td>2021-01-21 08:48:44 -0500</td>\n",
       "      <td>2021-01-21 05:50:51 -0500</td>\n",
       "      <td>2021-01-21 05:50:51 -0500</td>\n",
       "      <td>182.600</td>\n",
       "    </tr>\n",
       "  </tbody>\n",
       "</table>\n",
       "</div>"
      ],
      "text/plain": [
       "       sourceName sourceVersion  device      type unit  \\\n",
       "2097  Health Mate       5030201     NaN  BodyMass   lb   \n",
       "2098  Health Mate       5030303     NaN  BodyMass   lb   \n",
       "2099  Health Mate       5030303     NaN  BodyMass   lb   \n",
       "2100  Health Mate       5030303     NaN  BodyMass   lb   \n",
       "2101  Health Mate       5030303     NaN  BodyMass   lb   \n",
       "\n",
       "                   creationDate                  startDate  \\\n",
       "2097  2021-01-17 10:21:51 -0500  2021-01-17 07:08:05 -0500   \n",
       "2098  2021-01-18 08:14:00 -0500  2021-01-18 07:07:49 -0500   \n",
       "2099  2021-01-19 05:27:24 -0500  2021-01-19 05:20:36 -0500   \n",
       "2100  2021-01-20 05:57:06 -0500  2021-01-20 05:48:12 -0500   \n",
       "2101  2021-01-21 08:48:44 -0500  2021-01-21 05:50:51 -0500   \n",
       "\n",
       "                        endDate    value  \n",
       "2097  2021-01-17 07:08:05 -0500  184.392  \n",
       "2098  2021-01-18 07:07:49 -0500  184.073  \n",
       "2099  2021-01-19 05:20:36 -0500  183.738  \n",
       "2100  2021-01-20 05:48:12 -0500  182.827  \n",
       "2101  2021-01-21 05:50:51 -0500  182.600  "
      ]
     },
     "execution_count": 4,
     "metadata": {},
     "output_type": "execute_result"
    }
   ],
   "source": [
    "weight.tail()"
   ]
  },
  {
   "cell_type": "code",
   "execution_count": 5,
   "metadata": {},
   "outputs": [
    {
     "data": {
      "text/html": [
       "<div>\n",
       "<style scoped>\n",
       "    .dataframe tbody tr th:only-of-type {\n",
       "        vertical-align: middle;\n",
       "    }\n",
       "\n",
       "    .dataframe tbody tr th {\n",
       "        vertical-align: top;\n",
       "    }\n",
       "\n",
       "    .dataframe thead th {\n",
       "        text-align: right;\n",
       "    }\n",
       "</style>\n",
       "<table border=\"1\" class=\"dataframe\">\n",
       "  <thead>\n",
       "    <tr style=\"text-align: right;\">\n",
       "      <th></th>\n",
       "      <th>device</th>\n",
       "      <th>value</th>\n",
       "    </tr>\n",
       "  </thead>\n",
       "  <tbody>\n",
       "    <tr>\n",
       "      <th>count</th>\n",
       "      <td>0.0</td>\n",
       "      <td>2102.000000</td>\n",
       "    </tr>\n",
       "    <tr>\n",
       "      <th>mean</th>\n",
       "      <td>NaN</td>\n",
       "      <td>180.439138</td>\n",
       "    </tr>\n",
       "    <tr>\n",
       "      <th>std</th>\n",
       "      <td>NaN</td>\n",
       "      <td>9.257059</td>\n",
       "    </tr>\n",
       "    <tr>\n",
       "      <th>min</th>\n",
       "      <td>NaN</td>\n",
       "      <td>161.800000</td>\n",
       "    </tr>\n",
       "    <tr>\n",
       "      <th>25%</th>\n",
       "      <td>NaN</td>\n",
       "      <td>172.000000</td>\n",
       "    </tr>\n",
       "    <tr>\n",
       "      <th>50%</th>\n",
       "      <td>NaN</td>\n",
       "      <td>184.011000</td>\n",
       "    </tr>\n",
       "    <tr>\n",
       "      <th>75%</th>\n",
       "      <td>NaN</td>\n",
       "      <td>187.200000</td>\n",
       "    </tr>\n",
       "    <tr>\n",
       "      <th>max</th>\n",
       "      <td>NaN</td>\n",
       "      <td>196.741000</td>\n",
       "    </tr>\n",
       "  </tbody>\n",
       "</table>\n",
       "</div>"
      ],
      "text/plain": [
       "       device        value\n",
       "count     0.0  2102.000000\n",
       "mean      NaN   180.439138\n",
       "std       NaN     9.257059\n",
       "min       NaN   161.800000\n",
       "25%       NaN   172.000000\n",
       "50%       NaN   184.011000\n",
       "75%       NaN   187.200000\n",
       "max       NaN   196.741000"
      ]
     },
     "execution_count": 5,
     "metadata": {},
     "output_type": "execute_result"
    }
   ],
   "source": [
    "weight.describe()"
   ]
  },
  {
   "cell_type": "markdown",
   "metadata": {},
   "source": [
    "----"
   ]
  },
  {
   "cell_type": "markdown",
   "metadata": {},
   "source": [
    "## Steps"
   ]
  },
  {
   "cell_type": "code",
   "execution_count": 6,
   "metadata": {},
   "outputs": [],
   "source": [
    "steps = pd.read_csv(\"data/StepCount.csv\")"
   ]
  },
  {
   "cell_type": "code",
   "execution_count": 7,
   "metadata": {},
   "outputs": [
    {
     "data": {
      "text/plain": [
       "438737"
      ]
     },
     "execution_count": 7,
     "metadata": {},
     "output_type": "execute_result"
    }
   ],
   "source": [
    "len(steps)"
   ]
  },
  {
   "cell_type": "code",
   "execution_count": 8,
   "metadata": {},
   "outputs": [
    {
     "data": {
      "text/plain": [
       "Index(['sourceName', 'sourceVersion', 'device', 'type', 'unit', 'creationDate',\n",
       "       'startDate', 'endDate', 'value'],\n",
       "      dtype='object')"
      ]
     },
     "execution_count": 8,
     "metadata": {},
     "output_type": "execute_result"
    }
   ],
   "source": [
    "steps.columns"
   ]
  },
  {
   "cell_type": "code",
   "execution_count": 9,
   "metadata": {},
   "outputs": [
    {
     "data": {
      "text/html": [
       "<div>\n",
       "<style scoped>\n",
       "    .dataframe tbody tr th:only-of-type {\n",
       "        vertical-align: middle;\n",
       "    }\n",
       "\n",
       "    .dataframe tbody tr th {\n",
       "        vertical-align: top;\n",
       "    }\n",
       "\n",
       "    .dataframe thead th {\n",
       "        text-align: right;\n",
       "    }\n",
       "</style>\n",
       "<table border=\"1\" class=\"dataframe\">\n",
       "  <thead>\n",
       "    <tr style=\"text-align: right;\">\n",
       "      <th></th>\n",
       "      <th>value</th>\n",
       "    </tr>\n",
       "  </thead>\n",
       "  <tbody>\n",
       "    <tr>\n",
       "      <th>count</th>\n",
       "      <td>438737.000000</td>\n",
       "    </tr>\n",
       "    <tr>\n",
       "      <th>mean</th>\n",
       "      <td>46.388089</td>\n",
       "    </tr>\n",
       "    <tr>\n",
       "      <th>std</th>\n",
       "      <td>129.158468</td>\n",
       "    </tr>\n",
       "    <tr>\n",
       "      <th>min</th>\n",
       "      <td>1.000000</td>\n",
       "    </tr>\n",
       "    <tr>\n",
       "      <th>25%</th>\n",
       "      <td>7.000000</td>\n",
       "    </tr>\n",
       "    <tr>\n",
       "      <th>50%</th>\n",
       "      <td>19.000000</td>\n",
       "    </tr>\n",
       "    <tr>\n",
       "      <th>75%</th>\n",
       "      <td>49.000000</td>\n",
       "    </tr>\n",
       "    <tr>\n",
       "      <th>max</th>\n",
       "      <td>50650.000000</td>\n",
       "    </tr>\n",
       "  </tbody>\n",
       "</table>\n",
       "</div>"
      ],
      "text/plain": [
       "               value\n",
       "count  438737.000000\n",
       "mean       46.388089\n",
       "std       129.158468\n",
       "min         1.000000\n",
       "25%         7.000000\n",
       "50%        19.000000\n",
       "75%        49.000000\n",
       "max     50650.000000"
      ]
     },
     "execution_count": 9,
     "metadata": {},
     "output_type": "execute_result"
    }
   ],
   "source": [
    "steps.describe()"
   ]
  },
  {
   "cell_type": "code",
   "execution_count": 10,
   "metadata": {},
   "outputs": [
    {
     "data": {
      "text/html": [
       "<div>\n",
       "<style scoped>\n",
       "    .dataframe tbody tr th:only-of-type {\n",
       "        vertical-align: middle;\n",
       "    }\n",
       "\n",
       "    .dataframe tbody tr th {\n",
       "        vertical-align: top;\n",
       "    }\n",
       "\n",
       "    .dataframe thead th {\n",
       "        text-align: right;\n",
       "    }\n",
       "</style>\n",
       "<table border=\"1\" class=\"dataframe\">\n",
       "  <thead>\n",
       "    <tr style=\"text-align: right;\">\n",
       "      <th></th>\n",
       "      <th>sourceName</th>\n",
       "      <th>sourceVersion</th>\n",
       "      <th>device</th>\n",
       "      <th>type</th>\n",
       "      <th>unit</th>\n",
       "      <th>creationDate</th>\n",
       "      <th>startDate</th>\n",
       "      <th>endDate</th>\n",
       "      <th>value</th>\n",
       "    </tr>\n",
       "  </thead>\n",
       "  <tbody>\n",
       "    <tr>\n",
       "      <th>438732</th>\n",
       "      <td>Neo Apple Watch</td>\n",
       "      <td>7.2</td>\n",
       "      <td>&lt;&lt;HKDevice: 0x2826881e0&gt;, name:Apple Watch, ma...</td>\n",
       "      <td>StepCount</td>\n",
       "      <td>count</td>\n",
       "      <td>2021-01-21 12:13:21 -0500</td>\n",
       "      <td>2021-01-21 12:10:46 -0500</td>\n",
       "      <td>2021-01-21 12:11:22 -0500</td>\n",
       "      <td>67</td>\n",
       "    </tr>\n",
       "    <tr>\n",
       "      <th>438733</th>\n",
       "      <td>Neo Apple Watch</td>\n",
       "      <td>7.2</td>\n",
       "      <td>&lt;&lt;HKDevice: 0x2826881e0&gt;, name:Apple Watch, ma...</td>\n",
       "      <td>StepCount</td>\n",
       "      <td>count</td>\n",
       "      <td>2021-01-21 12:13:21 -0500</td>\n",
       "      <td>2021-01-21 12:11:55 -0500</td>\n",
       "      <td>2021-01-21 12:11:58 -0500</td>\n",
       "      <td>1</td>\n",
       "    </tr>\n",
       "    <tr>\n",
       "      <th>438734</th>\n",
       "      <td>iPhone</td>\n",
       "      <td>14.3</td>\n",
       "      <td>&lt;&lt;HKDevice: 0x282698000&gt;, name:iPhone, manufac...</td>\n",
       "      <td>StepCount</td>\n",
       "      <td>count</td>\n",
       "      <td>2021-01-21 12:20:15 -0500</td>\n",
       "      <td>2021-01-21 12:09:12 -0500</td>\n",
       "      <td>2021-01-21 12:11:58 -0500</td>\n",
       "      <td>119</td>\n",
       "    </tr>\n",
       "    <tr>\n",
       "      <th>438735</th>\n",
       "      <td>Neo Apple Watch</td>\n",
       "      <td>7.2</td>\n",
       "      <td>&lt;&lt;HKDevice: 0x2826881e0&gt;, name:Apple Watch, ma...</td>\n",
       "      <td>StepCount</td>\n",
       "      <td>count</td>\n",
       "      <td>2021-01-21 12:48:32 -0500</td>\n",
       "      <td>2021-01-21 12:38:00 -0500</td>\n",
       "      <td>2021-01-21 12:44:59 -0500</td>\n",
       "      <td>100</td>\n",
       "    </tr>\n",
       "    <tr>\n",
       "      <th>438736</th>\n",
       "      <td>iPhone</td>\n",
       "      <td>14.3</td>\n",
       "      <td>&lt;&lt;HKDevice: 0x282698000&gt;, name:iPhone, manufac...</td>\n",
       "      <td>StepCount</td>\n",
       "      <td>count</td>\n",
       "      <td>2021-01-21 12:49:15 -0500</td>\n",
       "      <td>2021-01-21 12:37:49 -0500</td>\n",
       "      <td>2021-01-21 12:44:45 -0500</td>\n",
       "      <td>105</td>\n",
       "    </tr>\n",
       "  </tbody>\n",
       "</table>\n",
       "</div>"
      ],
      "text/plain": [
       "             sourceName sourceVersion  \\\n",
       "438732  Neo Apple Watch           7.2   \n",
       "438733  Neo Apple Watch           7.2   \n",
       "438734           iPhone          14.3   \n",
       "438735  Neo Apple Watch           7.2   \n",
       "438736           iPhone          14.3   \n",
       "\n",
       "                                                   device       type   unit  \\\n",
       "438732  <<HKDevice: 0x2826881e0>, name:Apple Watch, ma...  StepCount  count   \n",
       "438733  <<HKDevice: 0x2826881e0>, name:Apple Watch, ma...  StepCount  count   \n",
       "438734  <<HKDevice: 0x282698000>, name:iPhone, manufac...  StepCount  count   \n",
       "438735  <<HKDevice: 0x2826881e0>, name:Apple Watch, ma...  StepCount  count   \n",
       "438736  <<HKDevice: 0x282698000>, name:iPhone, manufac...  StepCount  count   \n",
       "\n",
       "                     creationDate                  startDate  \\\n",
       "438732  2021-01-21 12:13:21 -0500  2021-01-21 12:10:46 -0500   \n",
       "438733  2021-01-21 12:13:21 -0500  2021-01-21 12:11:55 -0500   \n",
       "438734  2021-01-21 12:20:15 -0500  2021-01-21 12:09:12 -0500   \n",
       "438735  2021-01-21 12:48:32 -0500  2021-01-21 12:38:00 -0500   \n",
       "438736  2021-01-21 12:49:15 -0500  2021-01-21 12:37:49 -0500   \n",
       "\n",
       "                          endDate  value  \n",
       "438732  2021-01-21 12:11:22 -0500     67  \n",
       "438733  2021-01-21 12:11:58 -0500      1  \n",
       "438734  2021-01-21 12:11:58 -0500    119  \n",
       "438735  2021-01-21 12:44:59 -0500    100  \n",
       "438736  2021-01-21 12:44:45 -0500    105  "
      ]
     },
     "execution_count": 10,
     "metadata": {},
     "output_type": "execute_result"
    }
   ],
   "source": [
    "steps.tail()"
   ]
  },
  {
   "cell_type": "code",
   "execution_count": 11,
   "metadata": {},
   "outputs": [
    {
     "data": {
      "text/plain": [
       "20352171"
      ]
     },
     "execution_count": 11,
     "metadata": {},
     "output_type": "execute_result"
    }
   ],
   "source": [
    "# total all-time steps\n",
    "steps.value.sum()"
   ]
  },
  {
   "cell_type": "markdown",
   "metadata": {},
   "source": [
    "-------"
   ]
  },
  {
   "cell_type": "markdown",
   "metadata": {},
   "source": [
    "## Stand Count"
   ]
  },
  {
   "cell_type": "code",
   "execution_count": 12,
   "metadata": {},
   "outputs": [],
   "source": [
    "stand = pd.read_csv(\"data/AppleStandHour.csv\")"
   ]
  },
  {
   "cell_type": "code",
   "execution_count": 13,
   "metadata": {},
   "outputs": [
    {
     "data": {
      "text/plain": [
       "8806"
      ]
     },
     "execution_count": 13,
     "metadata": {},
     "output_type": "execute_result"
    }
   ],
   "source": [
    "len(stand)"
   ]
  },
  {
   "cell_type": "code",
   "execution_count": 14,
   "metadata": {},
   "outputs": [
    {
     "data": {
      "text/plain": [
       "Index(['sourceName', 'sourceVersion', 'device', 'type', 'unit', 'creationDate',\n",
       "       'startDate', 'endDate', 'value'],\n",
       "      dtype='object')"
      ]
     },
     "execution_count": 14,
     "metadata": {},
     "output_type": "execute_result"
    }
   ],
   "source": [
    "stand.columns"
   ]
  },
  {
   "cell_type": "code",
   "execution_count": 15,
   "metadata": {},
   "outputs": [
    {
     "data": {
      "text/html": [
       "<div>\n",
       "<style>\n",
       "    .dataframe thead tr:only-child th {\n",
       "        text-align: right;\n",
       "    }\n",
       "\n",
       "    .dataframe thead th {\n",
       "        text-align: left;\n",
       "    }\n",
       "\n",
       "    .dataframe tbody tr th {\n",
       "        vertical-align: top;\n",
       "    }\n",
       "</style>\n",
       "<table border=\"1\" class=\"dataframe\">\n",
       "  <thead>\n",
       "    <tr style=\"text-align: right;\">\n",
       "      <th></th>\n",
       "      <th>unit</th>\n",
       "    </tr>\n",
       "  </thead>\n",
       "  <tbody>\n",
       "    <tr>\n",
       "      <th>count</th>\n",
       "      <td>0.0</td>\n",
       "    </tr>\n",
       "    <tr>\n",
       "      <th>mean</th>\n",
       "      <td>NaN</td>\n",
       "    </tr>\n",
       "    <tr>\n",
       "      <th>std</th>\n",
       "      <td>NaN</td>\n",
       "    </tr>\n",
       "    <tr>\n",
       "      <th>min</th>\n",
       "      <td>NaN</td>\n",
       "    </tr>\n",
       "    <tr>\n",
       "      <th>25%</th>\n",
       "      <td>NaN</td>\n",
       "    </tr>\n",
       "    <tr>\n",
       "      <th>50%</th>\n",
       "      <td>NaN</td>\n",
       "    </tr>\n",
       "    <tr>\n",
       "      <th>75%</th>\n",
       "      <td>NaN</td>\n",
       "    </tr>\n",
       "    <tr>\n",
       "      <th>max</th>\n",
       "      <td>NaN</td>\n",
       "    </tr>\n",
       "  </tbody>\n",
       "</table>\n",
       "</div>"
      ],
      "text/plain": [
       "       unit\n",
       "count   0.0\n",
       "mean    NaN\n",
       "std     NaN\n",
       "min     NaN\n",
       "25%     NaN\n",
       "50%     NaN\n",
       "75%     NaN\n",
       "max     NaN"
      ]
     },
     "execution_count": 15,
     "metadata": {},
     "output_type": "execute_result"
    }
   ],
   "source": [
    "stand.describe()"
   ]
  },
  {
   "cell_type": "code",
   "execution_count": 16,
   "metadata": {},
   "outputs": [
    {
     "data": {
      "text/html": [
       "<div>\n",
       "<style>\n",
       "    .dataframe thead tr:only-child th {\n",
       "        text-align: right;\n",
       "    }\n",
       "\n",
       "    .dataframe thead th {\n",
       "        text-align: left;\n",
       "    }\n",
       "\n",
       "    .dataframe tbody tr th {\n",
       "        vertical-align: top;\n",
       "    }\n",
       "</style>\n",
       "<table border=\"1\" class=\"dataframe\">\n",
       "  <thead>\n",
       "    <tr style=\"text-align: right;\">\n",
       "      <th></th>\n",
       "      <th>sourceName</th>\n",
       "      <th>sourceVersion</th>\n",
       "      <th>device</th>\n",
       "      <th>type</th>\n",
       "      <th>unit</th>\n",
       "      <th>creationDate</th>\n",
       "      <th>startDate</th>\n",
       "      <th>endDate</th>\n",
       "      <th>value</th>\n",
       "    </tr>\n",
       "  </thead>\n",
       "  <tbody>\n",
       "    <tr>\n",
       "      <th>8801</th>\n",
       "      <td>Mark’s Apple Watch</td>\n",
       "      <td>4.3</td>\n",
       "      <td>&lt;&lt;HKDevice: 0x1c4686ef0&gt;, name:Apple Watch, ma...</td>\n",
       "      <td>AppleStandHour</td>\n",
       "      <td>NaN</td>\n",
       "      <td>2018-04-30 16:00:08 +0800</td>\n",
       "      <td>2018-04-30 15:00:00 +0800</td>\n",
       "      <td>2018-04-30 16:00:00 +0800</td>\n",
       "      <td>HKCategoryValueAppleStandHourIdle</td>\n",
       "    </tr>\n",
       "    <tr>\n",
       "      <th>8802</th>\n",
       "      <td>Mark’s Apple Watch</td>\n",
       "      <td>4.3</td>\n",
       "      <td>&lt;&lt;HKDevice: 0x1c4688bb0&gt;, name:Apple Watch, ma...</td>\n",
       "      <td>AppleStandHour</td>\n",
       "      <td>NaN</td>\n",
       "      <td>2018-04-30 17:03:20 +0800</td>\n",
       "      <td>2018-04-30 16:00:00 +0800</td>\n",
       "      <td>2018-04-30 17:00:00 +0800</td>\n",
       "      <td>HKCategoryValueAppleStandHourIdle</td>\n",
       "    </tr>\n",
       "    <tr>\n",
       "      <th>8803</th>\n",
       "      <td>Mark’s Apple Watch</td>\n",
       "      <td>4.3</td>\n",
       "      <td>&lt;&lt;HKDevice: 0x1c4685f00&gt;, name:Apple Watch, ma...</td>\n",
       "      <td>AppleStandHour</td>\n",
       "      <td>NaN</td>\n",
       "      <td>2018-04-30 17:59:51 +0800</td>\n",
       "      <td>2018-04-30 17:00:00 +0800</td>\n",
       "      <td>2018-04-30 18:00:00 +0800</td>\n",
       "      <td>HKCategoryValueAppleStandHourStood</td>\n",
       "    </tr>\n",
       "    <tr>\n",
       "      <th>8804</th>\n",
       "      <td>Mark’s Apple Watch</td>\n",
       "      <td>4.3</td>\n",
       "      <td>&lt;&lt;HKDevice: 0x1c4c942d0&gt;, name:Apple Watch, ma...</td>\n",
       "      <td>AppleStandHour</td>\n",
       "      <td>NaN</td>\n",
       "      <td>2018-04-30 18:00:52 +0800</td>\n",
       "      <td>2018-04-30 18:00:00 +0800</td>\n",
       "      <td>2018-04-30 19:00:00 +0800</td>\n",
       "      <td>HKCategoryValueAppleStandHourStood</td>\n",
       "    </tr>\n",
       "    <tr>\n",
       "      <th>8805</th>\n",
       "      <td>“马克\\的 iPhone\"</td>\n",
       "      <td>11.3</td>\n",
       "      <td>NaN</td>\n",
       "      <td>AppleStandHour</td>\n",
       "      <td>NaN</td>\n",
       "      <td>2018-04-30 18:52:26 +0800</td>\n",
       "      <td>2018-04-30 18:00:00 +0800</td>\n",
       "      <td>2018-04-30 19:00:00 +0800</td>\n",
       "      <td>HKCategoryValueAppleStandHourStood</td>\n",
       "    </tr>\n",
       "  </tbody>\n",
       "</table>\n",
       "</div>"
      ],
      "text/plain": [
       "              sourceName sourceVersion  \\\n",
       "8801  Mark’s Apple Watch           4.3   \n",
       "8802  Mark’s Apple Watch           4.3   \n",
       "8803  Mark’s Apple Watch           4.3   \n",
       "8804  Mark’s Apple Watch           4.3   \n",
       "8805       “马克\\的 iPhone\"          11.3   \n",
       "\n",
       "                                                 device            type  unit  \\\n",
       "8801  <<HKDevice: 0x1c4686ef0>, name:Apple Watch, ma...  AppleStandHour   NaN   \n",
       "8802  <<HKDevice: 0x1c4688bb0>, name:Apple Watch, ma...  AppleStandHour   NaN   \n",
       "8803  <<HKDevice: 0x1c4685f00>, name:Apple Watch, ma...  AppleStandHour   NaN   \n",
       "8804  <<HKDevice: 0x1c4c942d0>, name:Apple Watch, ma...  AppleStandHour   NaN   \n",
       "8805                                                NaN  AppleStandHour   NaN   \n",
       "\n",
       "                   creationDate                  startDate  \\\n",
       "8801  2018-04-30 16:00:08 +0800  2018-04-30 15:00:00 +0800   \n",
       "8802  2018-04-30 17:03:20 +0800  2018-04-30 16:00:00 +0800   \n",
       "8803  2018-04-30 17:59:51 +0800  2018-04-30 17:00:00 +0800   \n",
       "8804  2018-04-30 18:00:52 +0800  2018-04-30 18:00:00 +0800   \n",
       "8805  2018-04-30 18:52:26 +0800  2018-04-30 18:00:00 +0800   \n",
       "\n",
       "                        endDate                               value  \n",
       "8801  2018-04-30 16:00:00 +0800   HKCategoryValueAppleStandHourIdle  \n",
       "8802  2018-04-30 17:00:00 +0800   HKCategoryValueAppleStandHourIdle  \n",
       "8803  2018-04-30 18:00:00 +0800  HKCategoryValueAppleStandHourStood  \n",
       "8804  2018-04-30 19:00:00 +0800  HKCategoryValueAppleStandHourStood  \n",
       "8805  2018-04-30 19:00:00 +0800  HKCategoryValueAppleStandHourStood  "
      ]
     },
     "execution_count": 16,
     "metadata": {},
     "output_type": "execute_result"
    }
   ],
   "source": [
    "stand.tail()"
   ]
  },
  {
   "cell_type": "markdown",
   "metadata": {},
   "source": [
    "------"
   ]
  },
  {
   "cell_type": "markdown",
   "metadata": {},
   "source": [
    "## Resting Heart Rate (HR)"
   ]
  },
  {
   "cell_type": "code",
   "execution_count": 13,
   "metadata": {},
   "outputs": [],
   "source": [
    "restingHR = pd.read_csv(\"data/RestingHeartRate.csv\")"
   ]
  },
  {
   "cell_type": "code",
   "execution_count": 14,
   "metadata": {},
   "outputs": [
    {
     "data": {
      "text/plain": [
       "1104"
      ]
     },
     "execution_count": 14,
     "metadata": {},
     "output_type": "execute_result"
    }
   ],
   "source": [
    "len(restingHR)"
   ]
  },
  {
   "cell_type": "code",
   "execution_count": 15,
   "metadata": {},
   "outputs": [
    {
     "data": {
      "text/html": [
       "<div>\n",
       "<style scoped>\n",
       "    .dataframe tbody tr th:only-of-type {\n",
       "        vertical-align: middle;\n",
       "    }\n",
       "\n",
       "    .dataframe tbody tr th {\n",
       "        vertical-align: top;\n",
       "    }\n",
       "\n",
       "    .dataframe thead th {\n",
       "        text-align: right;\n",
       "    }\n",
       "</style>\n",
       "<table border=\"1\" class=\"dataframe\">\n",
       "  <thead>\n",
       "    <tr style=\"text-align: right;\">\n",
       "      <th></th>\n",
       "      <th>device</th>\n",
       "      <th>value</th>\n",
       "    </tr>\n",
       "  </thead>\n",
       "  <tbody>\n",
       "    <tr>\n",
       "      <th>count</th>\n",
       "      <td>0.0</td>\n",
       "      <td>1104.000000</td>\n",
       "    </tr>\n",
       "    <tr>\n",
       "      <th>mean</th>\n",
       "      <td>NaN</td>\n",
       "      <td>53.568841</td>\n",
       "    </tr>\n",
       "    <tr>\n",
       "      <th>std</th>\n",
       "      <td>NaN</td>\n",
       "      <td>2.194274</td>\n",
       "    </tr>\n",
       "    <tr>\n",
       "      <th>min</th>\n",
       "      <td>NaN</td>\n",
       "      <td>48.000000</td>\n",
       "    </tr>\n",
       "    <tr>\n",
       "      <th>25%</th>\n",
       "      <td>NaN</td>\n",
       "      <td>52.000000</td>\n",
       "    </tr>\n",
       "    <tr>\n",
       "      <th>50%</th>\n",
       "      <td>NaN</td>\n",
       "      <td>53.000000</td>\n",
       "    </tr>\n",
       "    <tr>\n",
       "      <th>75%</th>\n",
       "      <td>NaN</td>\n",
       "      <td>55.000000</td>\n",
       "    </tr>\n",
       "    <tr>\n",
       "      <th>max</th>\n",
       "      <td>NaN</td>\n",
       "      <td>69.000000</td>\n",
       "    </tr>\n",
       "  </tbody>\n",
       "</table>\n",
       "</div>"
      ],
      "text/plain": [
       "       device        value\n",
       "count     0.0  1104.000000\n",
       "mean      NaN    53.568841\n",
       "std       NaN     2.194274\n",
       "min       NaN    48.000000\n",
       "25%       NaN    52.000000\n",
       "50%       NaN    53.000000\n",
       "75%       NaN    55.000000\n",
       "max       NaN    69.000000"
      ]
     },
     "execution_count": 15,
     "metadata": {},
     "output_type": "execute_result"
    }
   ],
   "source": [
    "restingHR.describe()"
   ]
  },
  {
   "cell_type": "markdown",
   "metadata": {},
   "source": [
    "---"
   ]
  },
  {
   "cell_type": "markdown",
   "metadata": {},
   "source": [
    "## Walking Heart Rate (HR) Average"
   ]
  },
  {
   "cell_type": "code",
   "execution_count": 16,
   "metadata": {},
   "outputs": [],
   "source": [
    "walkingHR = pd.read_csv(\"data/WalkingHeartRateAverage.csv\")"
   ]
  },
  {
   "cell_type": "code",
   "execution_count": 17,
   "metadata": {},
   "outputs": [
    {
     "data": {
      "text/plain": [
       "1074"
      ]
     },
     "execution_count": 17,
     "metadata": {},
     "output_type": "execute_result"
    }
   ],
   "source": [
    "len(walkingHR)"
   ]
  },
  {
   "cell_type": "code",
   "execution_count": 18,
   "metadata": {},
   "outputs": [
    {
     "data": {
      "text/html": [
       "<div>\n",
       "<style scoped>\n",
       "    .dataframe tbody tr th:only-of-type {\n",
       "        vertical-align: middle;\n",
       "    }\n",
       "\n",
       "    .dataframe tbody tr th {\n",
       "        vertical-align: top;\n",
       "    }\n",
       "\n",
       "    .dataframe thead th {\n",
       "        text-align: right;\n",
       "    }\n",
       "</style>\n",
       "<table border=\"1\" class=\"dataframe\">\n",
       "  <thead>\n",
       "    <tr style=\"text-align: right;\">\n",
       "      <th></th>\n",
       "      <th>device</th>\n",
       "      <th>value</th>\n",
       "    </tr>\n",
       "  </thead>\n",
       "  <tbody>\n",
       "    <tr>\n",
       "      <th>count</th>\n",
       "      <td>0.0</td>\n",
       "      <td>1074.000000</td>\n",
       "    </tr>\n",
       "    <tr>\n",
       "      <th>mean</th>\n",
       "      <td>NaN</td>\n",
       "      <td>82.885009</td>\n",
       "    </tr>\n",
       "    <tr>\n",
       "      <th>std</th>\n",
       "      <td>NaN</td>\n",
       "      <td>12.362234</td>\n",
       "    </tr>\n",
       "    <tr>\n",
       "      <th>min</th>\n",
       "      <td>NaN</td>\n",
       "      <td>59.000000</td>\n",
       "    </tr>\n",
       "    <tr>\n",
       "      <th>25%</th>\n",
       "      <td>NaN</td>\n",
       "      <td>75.000000</td>\n",
       "    </tr>\n",
       "    <tr>\n",
       "      <th>50%</th>\n",
       "      <td>NaN</td>\n",
       "      <td>81.000000</td>\n",
       "    </tr>\n",
       "    <tr>\n",
       "      <th>75%</th>\n",
       "      <td>NaN</td>\n",
       "      <td>87.000000</td>\n",
       "    </tr>\n",
       "    <tr>\n",
       "      <th>max</th>\n",
       "      <td>NaN</td>\n",
       "      <td>148.000000</td>\n",
       "    </tr>\n",
       "  </tbody>\n",
       "</table>\n",
       "</div>"
      ],
      "text/plain": [
       "       device        value\n",
       "count     0.0  1074.000000\n",
       "mean      NaN    82.885009\n",
       "std       NaN    12.362234\n",
       "min       NaN    59.000000\n",
       "25%       NaN    75.000000\n",
       "50%       NaN    81.000000\n",
       "75%       NaN    87.000000\n",
       "max       NaN   148.000000"
      ]
     },
     "execution_count": 18,
     "metadata": {},
     "output_type": "execute_result"
    }
   ],
   "source": [
    "walkingHR.describe()"
   ]
  },
  {
   "cell_type": "markdown",
   "metadata": {},
   "source": [
    "---"
   ]
  },
  {
   "cell_type": "markdown",
   "metadata": {},
   "source": [
    "## Heart Rate Variability (HRV)"
   ]
  },
  {
   "cell_type": "code",
   "execution_count": 23,
   "metadata": {
    "collapsed": true
   },
   "outputs": [],
   "source": [
    "hrv = pd.read_csv(\"data/HeartRateVariabilitySDNN.csv\")"
   ]
  },
  {
   "cell_type": "code",
   "execution_count": 24,
   "metadata": {},
   "outputs": [
    {
     "data": {
      "text/plain": [
       "1216"
      ]
     },
     "execution_count": 24,
     "metadata": {},
     "output_type": "execute_result"
    }
   ],
   "source": [
    "len(hrv)"
   ]
  },
  {
   "cell_type": "code",
   "execution_count": 25,
   "metadata": {},
   "outputs": [
    {
     "data": {
      "text/plain": [
       "Index(['sourceName', 'sourceVersion', 'device', 'type', 'unit', 'creationDate',\n",
       "       'startDate', 'endDate', 'value'],\n",
       "      dtype='object')"
      ]
     },
     "execution_count": 25,
     "metadata": {},
     "output_type": "execute_result"
    }
   ],
   "source": [
    "hrv.columns"
   ]
  },
  {
   "cell_type": "code",
   "execution_count": 26,
   "metadata": {},
   "outputs": [
    {
     "data": {
      "text/html": [
       "<div>\n",
       "<style>\n",
       "    .dataframe thead tr:only-child th {\n",
       "        text-align: right;\n",
       "    }\n",
       "\n",
       "    .dataframe thead th {\n",
       "        text-align: left;\n",
       "    }\n",
       "\n",
       "    .dataframe tbody tr th {\n",
       "        vertical-align: top;\n",
       "    }\n",
       "</style>\n",
       "<table border=\"1\" class=\"dataframe\">\n",
       "  <thead>\n",
       "    <tr style=\"text-align: right;\">\n",
       "      <th></th>\n",
       "      <th>sourceVersion</th>\n",
       "      <th>value</th>\n",
       "    </tr>\n",
       "  </thead>\n",
       "  <tbody>\n",
       "    <tr>\n",
       "      <th>count</th>\n",
       "      <td>1216.000000</td>\n",
       "      <td>1216.000000</td>\n",
       "    </tr>\n",
       "    <tr>\n",
       "      <th>mean</th>\n",
       "      <td>4.100000</td>\n",
       "      <td>35.646432</td>\n",
       "    </tr>\n",
       "    <tr>\n",
       "      <th>std</th>\n",
       "      <td>0.065168</td>\n",
       "      <td>18.154448</td>\n",
       "    </tr>\n",
       "    <tr>\n",
       "      <th>min</th>\n",
       "      <td>4.000000</td>\n",
       "      <td>8.463160</td>\n",
       "    </tr>\n",
       "    <tr>\n",
       "      <th>25%</th>\n",
       "      <td>4.100000</td>\n",
       "      <td>23.143600</td>\n",
       "    </tr>\n",
       "    <tr>\n",
       "      <th>50%</th>\n",
       "      <td>4.100000</td>\n",
       "      <td>31.748000</td>\n",
       "    </tr>\n",
       "    <tr>\n",
       "      <th>75%</th>\n",
       "      <td>4.100000</td>\n",
       "      <td>43.296950</td>\n",
       "    </tr>\n",
       "    <tr>\n",
       "      <th>max</th>\n",
       "      <td>4.300000</td>\n",
       "      <td>178.671000</td>\n",
       "    </tr>\n",
       "  </tbody>\n",
       "</table>\n",
       "</div>"
      ],
      "text/plain": [
       "       sourceVersion        value\n",
       "count    1216.000000  1216.000000\n",
       "mean        4.100000    35.646432\n",
       "std         0.065168    18.154448\n",
       "min         4.000000     8.463160\n",
       "25%         4.100000    23.143600\n",
       "50%         4.100000    31.748000\n",
       "75%         4.100000    43.296950\n",
       "max         4.300000   178.671000"
      ]
     },
     "execution_count": 26,
     "metadata": {},
     "output_type": "execute_result"
    }
   ],
   "source": [
    "hrv.describe()"
   ]
  },
  {
   "cell_type": "code",
   "execution_count": 27,
   "metadata": {},
   "outputs": [
    {
     "data": {
      "text/html": [
       "<div>\n",
       "<style>\n",
       "    .dataframe thead tr:only-child th {\n",
       "        text-align: right;\n",
       "    }\n",
       "\n",
       "    .dataframe thead th {\n",
       "        text-align: left;\n",
       "    }\n",
       "\n",
       "    .dataframe tbody tr th {\n",
       "        vertical-align: top;\n",
       "    }\n",
       "</style>\n",
       "<table border=\"1\" class=\"dataframe\">\n",
       "  <thead>\n",
       "    <tr style=\"text-align: right;\">\n",
       "      <th></th>\n",
       "      <th>sourceName</th>\n",
       "      <th>sourceVersion</th>\n",
       "      <th>device</th>\n",
       "      <th>type</th>\n",
       "      <th>unit</th>\n",
       "      <th>creationDate</th>\n",
       "      <th>startDate</th>\n",
       "      <th>endDate</th>\n",
       "      <th>value</th>\n",
       "    </tr>\n",
       "  </thead>\n",
       "  <tbody>\n",
       "    <tr>\n",
       "      <th>1211</th>\n",
       "      <td>Mark’s Apple Watch</td>\n",
       "      <td>4.3</td>\n",
       "      <td>&lt;&lt;HKDevice: 0x1c0c8dc50&gt;, name:Apple Watch, ma...</td>\n",
       "      <td>HeartRateVariabilitySDNN</td>\n",
       "      <td>ms</td>\n",
       "      <td>2018-04-30 04:23:46 +0800</td>\n",
       "      <td>2018-04-30 04:22:40 +0800</td>\n",
       "      <td>2018-04-30 04:23:45 +0800</td>\n",
       "      <td>12.5996</td>\n",
       "    </tr>\n",
       "    <tr>\n",
       "      <th>1212</th>\n",
       "      <td>Mark’s Apple Watch</td>\n",
       "      <td>4.3</td>\n",
       "      <td>&lt;&lt;HKDevice: 0x1c0684920&gt;, name:Apple Watch, ma...</td>\n",
       "      <td>HeartRateVariabilitySDNN</td>\n",
       "      <td>ms</td>\n",
       "      <td>2018-04-30 06:23:48 +0800</td>\n",
       "      <td>2018-04-30 06:22:47 +0800</td>\n",
       "      <td>2018-04-30 06:23:48 +0800</td>\n",
       "      <td>32.7910</td>\n",
       "    </tr>\n",
       "    <tr>\n",
       "      <th>1213</th>\n",
       "      <td>Mark’s Apple Watch</td>\n",
       "      <td>4.3</td>\n",
       "      <td>&lt;&lt;HKDevice: 0x1c0c9a5e0&gt;, name:Apple Watch, ma...</td>\n",
       "      <td>HeartRateVariabilitySDNN</td>\n",
       "      <td>ms</td>\n",
       "      <td>2018-04-30 08:24:10 +0800</td>\n",
       "      <td>2018-04-30 08:23:05 +0800</td>\n",
       "      <td>2018-04-30 08:24:10 +0800</td>\n",
       "      <td>22.8008</td>\n",
       "    </tr>\n",
       "    <tr>\n",
       "      <th>1214</th>\n",
       "      <td>Mark’s Apple Watch</td>\n",
       "      <td>4.3</td>\n",
       "      <td>&lt;&lt;HKDevice: 0x1c06932e0&gt;, name:Apple Watch, ma...</td>\n",
       "      <td>HeartRateVariabilitySDNN</td>\n",
       "      <td>ms</td>\n",
       "      <td>2018-04-30 12:37:02 +0800</td>\n",
       "      <td>2018-04-30 12:35:57 +0800</td>\n",
       "      <td>2018-04-30 12:37:02 +0800</td>\n",
       "      <td>110.7040</td>\n",
       "    </tr>\n",
       "    <tr>\n",
       "      <th>1215</th>\n",
       "      <td>Mark’s Apple Watch</td>\n",
       "      <td>4.3</td>\n",
       "      <td>&lt;&lt;HKDevice: 0x1c0697c00&gt;, name:Apple Watch, ma...</td>\n",
       "      <td>HeartRateVariabilitySDNN</td>\n",
       "      <td>ms</td>\n",
       "      <td>2018-04-30 17:20:02 +0800</td>\n",
       "      <td>2018-04-30 17:18:57 +0800</td>\n",
       "      <td>2018-04-30 17:20:01 +0800</td>\n",
       "      <td>37.1214</td>\n",
       "    </tr>\n",
       "  </tbody>\n",
       "</table>\n",
       "</div>"
      ],
      "text/plain": [
       "              sourceName  sourceVersion  \\\n",
       "1211  Mark’s Apple Watch            4.3   \n",
       "1212  Mark’s Apple Watch            4.3   \n",
       "1213  Mark’s Apple Watch            4.3   \n",
       "1214  Mark’s Apple Watch            4.3   \n",
       "1215  Mark’s Apple Watch            4.3   \n",
       "\n",
       "                                                 device  \\\n",
       "1211  <<HKDevice: 0x1c0c8dc50>, name:Apple Watch, ma...   \n",
       "1212  <<HKDevice: 0x1c0684920>, name:Apple Watch, ma...   \n",
       "1213  <<HKDevice: 0x1c0c9a5e0>, name:Apple Watch, ma...   \n",
       "1214  <<HKDevice: 0x1c06932e0>, name:Apple Watch, ma...   \n",
       "1215  <<HKDevice: 0x1c0697c00>, name:Apple Watch, ma...   \n",
       "\n",
       "                          type unit               creationDate  \\\n",
       "1211  HeartRateVariabilitySDNN   ms  2018-04-30 04:23:46 +0800   \n",
       "1212  HeartRateVariabilitySDNN   ms  2018-04-30 06:23:48 +0800   \n",
       "1213  HeartRateVariabilitySDNN   ms  2018-04-30 08:24:10 +0800   \n",
       "1214  HeartRateVariabilitySDNN   ms  2018-04-30 12:37:02 +0800   \n",
       "1215  HeartRateVariabilitySDNN   ms  2018-04-30 17:20:02 +0800   \n",
       "\n",
       "                      startDate                    endDate     value  \n",
       "1211  2018-04-30 04:22:40 +0800  2018-04-30 04:23:45 +0800   12.5996  \n",
       "1212  2018-04-30 06:22:47 +0800  2018-04-30 06:23:48 +0800   32.7910  \n",
       "1213  2018-04-30 08:23:05 +0800  2018-04-30 08:24:10 +0800   22.8008  \n",
       "1214  2018-04-30 12:35:57 +0800  2018-04-30 12:37:02 +0800  110.7040  \n",
       "1215  2018-04-30 17:18:57 +0800  2018-04-30 17:20:01 +0800   37.1214  "
      ]
     },
     "execution_count": 27,
     "metadata": {},
     "output_type": "execute_result"
    }
   ],
   "source": [
    "hrv.tail()"
   ]
  },
  {
   "cell_type": "markdown",
   "metadata": {},
   "source": [
    "-------"
   ]
  },
  {
   "cell_type": "markdown",
   "metadata": {},
   "source": [
    "## VO2 Max"
   ]
  },
  {
   "cell_type": "code",
   "execution_count": 28,
   "metadata": {
    "collapsed": true
   },
   "outputs": [],
   "source": [
    "vo2max = pd.read_csv(\"data/VO2Max.csv\")"
   ]
  },
  {
   "cell_type": "code",
   "execution_count": 29,
   "metadata": {},
   "outputs": [
    {
     "data": {
      "text/plain": [
       "143"
      ]
     },
     "execution_count": 29,
     "metadata": {},
     "output_type": "execute_result"
    }
   ],
   "source": [
    "len(vo2max)"
   ]
  },
  {
   "cell_type": "code",
   "execution_count": 30,
   "metadata": {},
   "outputs": [
    {
     "data": {
      "text/html": [
       "<div>\n",
       "<style>\n",
       "    .dataframe thead tr:only-child th {\n",
       "        text-align: right;\n",
       "    }\n",
       "\n",
       "    .dataframe thead th {\n",
       "        text-align: left;\n",
       "    }\n",
       "\n",
       "    .dataframe tbody tr th {\n",
       "        vertical-align: top;\n",
       "    }\n",
       "</style>\n",
       "<table border=\"1\" class=\"dataframe\">\n",
       "  <thead>\n",
       "    <tr style=\"text-align: right;\">\n",
       "      <th></th>\n",
       "      <th>sourceVersion</th>\n",
       "      <th>device</th>\n",
       "      <th>value</th>\n",
       "    </tr>\n",
       "  </thead>\n",
       "  <tbody>\n",
       "    <tr>\n",
       "      <th>count</th>\n",
       "      <td>0.0</td>\n",
       "      <td>0.0</td>\n",
       "      <td>143.000000</td>\n",
       "    </tr>\n",
       "    <tr>\n",
       "      <th>mean</th>\n",
       "      <td>NaN</td>\n",
       "      <td>NaN</td>\n",
       "      <td>51.085681</td>\n",
       "    </tr>\n",
       "    <tr>\n",
       "      <th>std</th>\n",
       "      <td>NaN</td>\n",
       "      <td>NaN</td>\n",
       "      <td>1.900692</td>\n",
       "    </tr>\n",
       "    <tr>\n",
       "      <th>min</th>\n",
       "      <td>NaN</td>\n",
       "      <td>NaN</td>\n",
       "      <td>48.008400</td>\n",
       "    </tr>\n",
       "    <tr>\n",
       "      <th>25%</th>\n",
       "      <td>NaN</td>\n",
       "      <td>NaN</td>\n",
       "      <td>49.364600</td>\n",
       "    </tr>\n",
       "    <tr>\n",
       "      <th>50%</th>\n",
       "      <td>NaN</td>\n",
       "      <td>NaN</td>\n",
       "      <td>51.098600</td>\n",
       "    </tr>\n",
       "    <tr>\n",
       "      <th>75%</th>\n",
       "      <td>NaN</td>\n",
       "      <td>NaN</td>\n",
       "      <td>52.350500</td>\n",
       "    </tr>\n",
       "    <tr>\n",
       "      <th>max</th>\n",
       "      <td>NaN</td>\n",
       "      <td>NaN</td>\n",
       "      <td>55.097800</td>\n",
       "    </tr>\n",
       "  </tbody>\n",
       "</table>\n",
       "</div>"
      ],
      "text/plain": [
       "       sourceVersion  device       value\n",
       "count            0.0     0.0  143.000000\n",
       "mean             NaN     NaN   51.085681\n",
       "std              NaN     NaN    1.900692\n",
       "min              NaN     NaN   48.008400\n",
       "25%              NaN     NaN   49.364600\n",
       "50%              NaN     NaN   51.098600\n",
       "75%              NaN     NaN   52.350500\n",
       "max              NaN     NaN   55.097800"
      ]
     },
     "execution_count": 30,
     "metadata": {},
     "output_type": "execute_result"
    }
   ],
   "source": [
    "vo2max.describe()"
   ]
  },
  {
   "cell_type": "markdown",
   "metadata": {},
   "source": [
    "----"
   ]
  },
  {
   "cell_type": "markdown",
   "metadata": {},
   "source": [
    "## Blood Pressure"
   ]
  },
  {
   "cell_type": "code",
   "execution_count": 31,
   "metadata": {
    "collapsed": true
   },
   "outputs": [],
   "source": [
    "diastolic = pd.read_csv(\"data/BloodPressureDiastolic.csv\")\n",
    "systolic = pd.read_csv(\"data/BloodPressureSystolic.csv\")"
   ]
  },
  {
   "cell_type": "code",
   "execution_count": 32,
   "metadata": {},
   "outputs": [
    {
     "data": {
      "text/html": [
       "<div>\n",
       "<style>\n",
       "    .dataframe thead tr:only-child th {\n",
       "        text-align: right;\n",
       "    }\n",
       "\n",
       "    .dataframe thead th {\n",
       "        text-align: left;\n",
       "    }\n",
       "\n",
       "    .dataframe tbody tr th {\n",
       "        vertical-align: top;\n",
       "    }\n",
       "</style>\n",
       "<table border=\"1\" class=\"dataframe\">\n",
       "  <thead>\n",
       "    <tr style=\"text-align: right;\">\n",
       "      <th></th>\n",
       "      <th>device</th>\n",
       "      <th>value</th>\n",
       "    </tr>\n",
       "  </thead>\n",
       "  <tbody>\n",
       "    <tr>\n",
       "      <th>count</th>\n",
       "      <td>0.0</td>\n",
       "      <td>29.000000</td>\n",
       "    </tr>\n",
       "    <tr>\n",
       "      <th>mean</th>\n",
       "      <td>NaN</td>\n",
       "      <td>65.586207</td>\n",
       "    </tr>\n",
       "    <tr>\n",
       "      <th>std</th>\n",
       "      <td>NaN</td>\n",
       "      <td>5.081600</td>\n",
       "    </tr>\n",
       "    <tr>\n",
       "      <th>min</th>\n",
       "      <td>NaN</td>\n",
       "      <td>55.000000</td>\n",
       "    </tr>\n",
       "    <tr>\n",
       "      <th>25%</th>\n",
       "      <td>NaN</td>\n",
       "      <td>63.000000</td>\n",
       "    </tr>\n",
       "    <tr>\n",
       "      <th>50%</th>\n",
       "      <td>NaN</td>\n",
       "      <td>67.000000</td>\n",
       "    </tr>\n",
       "    <tr>\n",
       "      <th>75%</th>\n",
       "      <td>NaN</td>\n",
       "      <td>69.000000</td>\n",
       "    </tr>\n",
       "    <tr>\n",
       "      <th>max</th>\n",
       "      <td>NaN</td>\n",
       "      <td>76.000000</td>\n",
       "    </tr>\n",
       "  </tbody>\n",
       "</table>\n",
       "</div>"
      ],
      "text/plain": [
       "       device      value\n",
       "count     0.0  29.000000\n",
       "mean      NaN  65.586207\n",
       "std       NaN   5.081600\n",
       "min       NaN  55.000000\n",
       "25%       NaN  63.000000\n",
       "50%       NaN  67.000000\n",
       "75%       NaN  69.000000\n",
       "max       NaN  76.000000"
      ]
     },
     "execution_count": 32,
     "metadata": {},
     "output_type": "execute_result"
    }
   ],
   "source": [
    "diastolic.describe()"
   ]
  },
  {
   "cell_type": "code",
   "execution_count": 33,
   "metadata": {},
   "outputs": [
    {
     "data": {
      "text/html": [
       "<div>\n",
       "<style>\n",
       "    .dataframe thead tr:only-child th {\n",
       "        text-align: right;\n",
       "    }\n",
       "\n",
       "    .dataframe thead th {\n",
       "        text-align: left;\n",
       "    }\n",
       "\n",
       "    .dataframe tbody tr th {\n",
       "        vertical-align: top;\n",
       "    }\n",
       "</style>\n",
       "<table border=\"1\" class=\"dataframe\">\n",
       "  <thead>\n",
       "    <tr style=\"text-align: right;\">\n",
       "      <th></th>\n",
       "      <th>device</th>\n",
       "      <th>value</th>\n",
       "    </tr>\n",
       "  </thead>\n",
       "  <tbody>\n",
       "    <tr>\n",
       "      <th>count</th>\n",
       "      <td>0.0</td>\n",
       "      <td>29.000000</td>\n",
       "    </tr>\n",
       "    <tr>\n",
       "      <th>mean</th>\n",
       "      <td>NaN</td>\n",
       "      <td>113.206897</td>\n",
       "    </tr>\n",
       "    <tr>\n",
       "      <th>std</th>\n",
       "      <td>NaN</td>\n",
       "      <td>8.973689</td>\n",
       "    </tr>\n",
       "    <tr>\n",
       "      <th>min</th>\n",
       "      <td>NaN</td>\n",
       "      <td>95.000000</td>\n",
       "    </tr>\n",
       "    <tr>\n",
       "      <th>25%</th>\n",
       "      <td>NaN</td>\n",
       "      <td>106.000000</td>\n",
       "    </tr>\n",
       "    <tr>\n",
       "      <th>50%</th>\n",
       "      <td>NaN</td>\n",
       "      <td>112.000000</td>\n",
       "    </tr>\n",
       "    <tr>\n",
       "      <th>75%</th>\n",
       "      <td>NaN</td>\n",
       "      <td>122.000000</td>\n",
       "    </tr>\n",
       "    <tr>\n",
       "      <th>max</th>\n",
       "      <td>NaN</td>\n",
       "      <td>128.000000</td>\n",
       "    </tr>\n",
       "  </tbody>\n",
       "</table>\n",
       "</div>"
      ],
      "text/plain": [
       "       device       value\n",
       "count     0.0   29.000000\n",
       "mean      NaN  113.206897\n",
       "std       NaN    8.973689\n",
       "min       NaN   95.000000\n",
       "25%       NaN  106.000000\n",
       "50%       NaN  112.000000\n",
       "75%       NaN  122.000000\n",
       "max       NaN  128.000000"
      ]
     },
     "execution_count": 33,
     "metadata": {},
     "output_type": "execute_result"
    }
   ],
   "source": [
    "systolic.describe()"
   ]
  },
  {
   "cell_type": "markdown",
   "metadata": {},
   "source": [
    "------"
   ]
  },
  {
   "cell_type": "markdown",
   "metadata": {},
   "source": [
    "## Sleep"
   ]
  },
  {
   "cell_type": "code",
   "execution_count": 20,
   "metadata": {},
   "outputs": [],
   "source": [
    "sleep = pd.read_csv(\"data/SleepAnalysis.csv\")"
   ]
  },
  {
   "cell_type": "code",
   "execution_count": 21,
   "metadata": {},
   "outputs": [
    {
     "data": {
      "text/html": [
       "<div>\n",
       "<style scoped>\n",
       "    .dataframe tbody tr th:only-of-type {\n",
       "        vertical-align: middle;\n",
       "    }\n",
       "\n",
       "    .dataframe tbody tr th {\n",
       "        vertical-align: top;\n",
       "    }\n",
       "\n",
       "    .dataframe thead th {\n",
       "        text-align: right;\n",
       "    }\n",
       "</style>\n",
       "<table border=\"1\" class=\"dataframe\">\n",
       "  <thead>\n",
       "    <tr style=\"text-align: right;\">\n",
       "      <th></th>\n",
       "      <th>sourceName</th>\n",
       "      <th>sourceVersion</th>\n",
       "      <th>device</th>\n",
       "      <th>type</th>\n",
       "      <th>unit</th>\n",
       "      <th>creationDate</th>\n",
       "      <th>startDate</th>\n",
       "      <th>endDate</th>\n",
       "      <th>value</th>\n",
       "    </tr>\n",
       "  </thead>\n",
       "  <tbody>\n",
       "    <tr>\n",
       "      <th>4215</th>\n",
       "      <td>Sleep Cycle</td>\n",
       "      <td>14349</td>\n",
       "      <td>NaN</td>\n",
       "      <td>SleepAnalysis</td>\n",
       "      <td>NaN</td>\n",
       "      <td>2021-01-20 05:50:47 -0500</td>\n",
       "      <td>2021-01-19 23:00:31 -0500</td>\n",
       "      <td>2021-01-20 05:19:48 -0500</td>\n",
       "      <td>HKCategoryValueSleepAnalysisAsleep</td>\n",
       "    </tr>\n",
       "    <tr>\n",
       "      <th>4216</th>\n",
       "      <td>Sleep Cycle</td>\n",
       "      <td>14349</td>\n",
       "      <td>NaN</td>\n",
       "      <td>SleepAnalysis</td>\n",
       "      <td>NaN</td>\n",
       "      <td>2021-01-20 05:50:47 -0500</td>\n",
       "      <td>2021-01-19 22:06:20 -0500</td>\n",
       "      <td>2021-01-20 05:50:46 -0500</td>\n",
       "      <td>HKCategoryValueSleepAnalysisInBed</td>\n",
       "    </tr>\n",
       "    <tr>\n",
       "      <th>4217</th>\n",
       "      <td>Sleep Cycle</td>\n",
       "      <td>14349</td>\n",
       "      <td>NaN</td>\n",
       "      <td>SleepAnalysis</td>\n",
       "      <td>NaN</td>\n",
       "      <td>2021-01-21 05:52:13 -0500</td>\n",
       "      <td>2021-01-20 22:49:00 -0500</td>\n",
       "      <td>2021-01-21 03:30:37 -0500</td>\n",
       "      <td>HKCategoryValueSleepAnalysisAsleep</td>\n",
       "    </tr>\n",
       "    <tr>\n",
       "      <th>4218</th>\n",
       "      <td>Sleep Cycle</td>\n",
       "      <td>14349</td>\n",
       "      <td>NaN</td>\n",
       "      <td>SleepAnalysis</td>\n",
       "      <td>NaN</td>\n",
       "      <td>2021-01-21 05:52:13 -0500</td>\n",
       "      <td>2021-01-21 04:00:30 -0500</td>\n",
       "      <td>2021-01-21 05:38:02 -0500</td>\n",
       "      <td>HKCategoryValueSleepAnalysisAsleep</td>\n",
       "    </tr>\n",
       "    <tr>\n",
       "      <th>4219</th>\n",
       "      <td>Sleep Cycle</td>\n",
       "      <td>14349</td>\n",
       "      <td>NaN</td>\n",
       "      <td>SleepAnalysis</td>\n",
       "      <td>NaN</td>\n",
       "      <td>2021-01-21 05:52:13 -0500</td>\n",
       "      <td>2021-01-20 22:00:14 -0500</td>\n",
       "      <td>2021-01-21 05:52:12 -0500</td>\n",
       "      <td>HKCategoryValueSleepAnalysisInBed</td>\n",
       "    </tr>\n",
       "  </tbody>\n",
       "</table>\n",
       "</div>"
      ],
      "text/plain": [
       "       sourceName  sourceVersion  device           type  unit  \\\n",
       "4215  Sleep Cycle          14349     NaN  SleepAnalysis   NaN   \n",
       "4216  Sleep Cycle          14349     NaN  SleepAnalysis   NaN   \n",
       "4217  Sleep Cycle          14349     NaN  SleepAnalysis   NaN   \n",
       "4218  Sleep Cycle          14349     NaN  SleepAnalysis   NaN   \n",
       "4219  Sleep Cycle          14349     NaN  SleepAnalysis   NaN   \n",
       "\n",
       "                   creationDate                  startDate  \\\n",
       "4215  2021-01-20 05:50:47 -0500  2021-01-19 23:00:31 -0500   \n",
       "4216  2021-01-20 05:50:47 -0500  2021-01-19 22:06:20 -0500   \n",
       "4217  2021-01-21 05:52:13 -0500  2021-01-20 22:49:00 -0500   \n",
       "4218  2021-01-21 05:52:13 -0500  2021-01-21 04:00:30 -0500   \n",
       "4219  2021-01-21 05:52:13 -0500  2021-01-20 22:00:14 -0500   \n",
       "\n",
       "                        endDate                               value  \n",
       "4215  2021-01-20 05:19:48 -0500  HKCategoryValueSleepAnalysisAsleep  \n",
       "4216  2021-01-20 05:50:46 -0500   HKCategoryValueSleepAnalysisInBed  \n",
       "4217  2021-01-21 03:30:37 -0500  HKCategoryValueSleepAnalysisAsleep  \n",
       "4218  2021-01-21 05:38:02 -0500  HKCategoryValueSleepAnalysisAsleep  \n",
       "4219  2021-01-21 05:52:12 -0500   HKCategoryValueSleepAnalysisInBed  "
      ]
     },
     "execution_count": 21,
     "metadata": {},
     "output_type": "execute_result"
    }
   ],
   "source": [
    "sleep.tail()"
   ]
  },
  {
   "cell_type": "code",
   "execution_count": 22,
   "metadata": {},
   "outputs": [
    {
     "data": {
      "text/html": [
       "<div>\n",
       "<style scoped>\n",
       "    .dataframe tbody tr th:only-of-type {\n",
       "        vertical-align: middle;\n",
       "    }\n",
       "\n",
       "    .dataframe tbody tr th {\n",
       "        vertical-align: top;\n",
       "    }\n",
       "\n",
       "    .dataframe thead th {\n",
       "        text-align: right;\n",
       "    }\n",
       "</style>\n",
       "<table border=\"1\" class=\"dataframe\">\n",
       "  <thead>\n",
       "    <tr style=\"text-align: right;\">\n",
       "      <th></th>\n",
       "      <th>sourceVersion</th>\n",
       "      <th>device</th>\n",
       "      <th>unit</th>\n",
       "    </tr>\n",
       "  </thead>\n",
       "  <tbody>\n",
       "    <tr>\n",
       "      <th>count</th>\n",
       "      <td>4220.000000</td>\n",
       "      <td>0.0</td>\n",
       "      <td>0.0</td>\n",
       "    </tr>\n",
       "    <tr>\n",
       "      <th>mean</th>\n",
       "      <td>6823.776540</td>\n",
       "      <td>NaN</td>\n",
       "      <td>NaN</td>\n",
       "    </tr>\n",
       "    <tr>\n",
       "      <th>std</th>\n",
       "      <td>3284.225261</td>\n",
       "      <td>NaN</td>\n",
       "      <td>NaN</td>\n",
       "    </tr>\n",
       "    <tr>\n",
       "      <th>min</th>\n",
       "      <td>4711.000000</td>\n",
       "      <td>NaN</td>\n",
       "      <td>NaN</td>\n",
       "    </tr>\n",
       "    <tr>\n",
       "      <th>25%</th>\n",
       "      <td>4711.000000</td>\n",
       "      <td>NaN</td>\n",
       "      <td>NaN</td>\n",
       "    </tr>\n",
       "    <tr>\n",
       "      <th>50%</th>\n",
       "      <td>4764.000000</td>\n",
       "      <td>NaN</td>\n",
       "      <td>NaN</td>\n",
       "    </tr>\n",
       "    <tr>\n",
       "      <th>75%</th>\n",
       "      <td>9285.000000</td>\n",
       "      <td>NaN</td>\n",
       "      <td>NaN</td>\n",
       "    </tr>\n",
       "    <tr>\n",
       "      <th>max</th>\n",
       "      <td>14349.000000</td>\n",
       "      <td>NaN</td>\n",
       "      <td>NaN</td>\n",
       "    </tr>\n",
       "  </tbody>\n",
       "</table>\n",
       "</div>"
      ],
      "text/plain": [
       "       sourceVersion  device  unit\n",
       "count    4220.000000     0.0   0.0\n",
       "mean     6823.776540     NaN   NaN\n",
       "std      3284.225261     NaN   NaN\n",
       "min      4711.000000     NaN   NaN\n",
       "25%      4711.000000     NaN   NaN\n",
       "50%      4764.000000     NaN   NaN\n",
       "75%      9285.000000     NaN   NaN\n",
       "max     14349.000000     NaN   NaN"
      ]
     },
     "execution_count": 22,
     "metadata": {},
     "output_type": "execute_result"
    }
   ],
   "source": [
    "sleep.describe()"
   ]
  },
  {
   "cell_type": "code",
   "execution_count": null,
   "metadata": {
    "collapsed": true
   },
   "outputs": [],
   "source": []
  }
 ],
 "metadata": {
  "kernelspec": {
   "display_name": "learn-env",
   "language": "python",
   "name": "learn-env"
  },
  "language_info": {
   "codemirror_mode": {
    "name": "ipython",
    "version": 3
   },
   "file_extension": ".py",
   "mimetype": "text/x-python",
   "name": "python",
   "nbconvert_exporter": "python",
   "pygments_lexer": "ipython3",
   "version": "3.8.5"
  }
 },
 "nbformat": 4,
 "nbformat_minor": 2
}
